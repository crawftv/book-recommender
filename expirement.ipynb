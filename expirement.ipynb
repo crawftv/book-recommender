{
 "cells": [
  {
   "cell_type": "code",
   "execution_count": 1,
   "metadata": {},
   "outputs": [],
   "source": [
    "%load_ext autoreload"
   ]
  },
  {
   "cell_type": "code",
   "execution_count": 2,
   "metadata": {},
   "outputs": [],
   "source": [
    "%autoreload 2"
   ]
  },
  {
   "cell_type": "code",
   "execution_count": 3,
   "metadata": {},
   "outputs": [],
   "source": [
    "from dataclasses import dataclass, asdict\n",
    "import re\n",
    "import sqlite3\n",
    "import json\n",
    "from pickling_cookies import pickle_thing, unpickle_thing\n",
    "from prefect import task, Flow, Parameter"
   ]
  },
  {
   "cell_type": "code",
   "execution_count": 4,
   "metadata": {},
   "outputs": [
    {
     "name": "stderr",
     "output_type": "stream",
     "text": [
      "<ipython-input-4-a31150cfc6c0>:5: DeprecationWarning: use setter for headless property instead of set_headless\n",
      "  opts.set_headless()\n"
     ]
    }
   ],
   "source": [
    "from selenium import webdriver\n",
    "from selenium.webdriver.common.keys import Keys\n",
    "from selenium.webdriver.firefox.options import Options\n",
    "opts = Options()\n",
    "opts.set_headless()\n"
   ]
  },
  {
   "cell_type": "code",
   "execution_count": 7,
   "metadata": {},
   "outputs": [],
   "source": [
    "url =\"https://www.goodreads.com/user/show/43182754-crawford-collins\"\n",
    "driver = webdriver.Firefox()\n",
    "driver.get(url)\n",
    "shelfContainer = driver.find_elements_by_class_name(\"userShowPageShelfListItem\")\n",
    "shelves = [grab_shelf(ii) for ii in shelfContainer]\n",
    "#driver.close()\n",
    "shelves = [asdict(i) for i in shelves]"
   ]
  },
  {
   "cell_type": "code",
   "execution_count": 18,
   "metadata": {},
   "outputs": [],
   "source": [
    "?pickle_thing"
   ]
  },
  {
   "cell_type": "code",
   "execution_count": 11,
   "metadata": {},
   "outputs": [
    {
     "data": {
      "text/plain": [
       "[{'name': 'ccsid',\n",
       "  'value': '386-1325278-1730327',\n",
       "  'path': '/',\n",
       "  'domain': 'www.goodreads.com',\n",
       "  'secure': False,\n",
       "  'httpOnly': False,\n",
       "  'expiry': 2214621008},\n",
       " {'name': 'locale',\n",
       "  'value': 'en',\n",
       "  'path': '/',\n",
       "  'domain': 'www.goodreads.com',\n",
       "  'secure': False,\n",
       "  'httpOnly': False},\n",
       " {'name': '__utmc',\n",
       "  'value': '250562704',\n",
       "  'path': '/',\n",
       "  'domain': '.goodreads.com',\n",
       "  'secure': False,\n",
       "  'httpOnly': False},\n",
       " {'name': '__utmt',\n",
       "  'value': '1',\n",
       "  'path': '/',\n",
       "  'domain': '.goodreads.com',\n",
       "  'secure': False,\n",
       "  'httpOnly': False,\n",
       "  'expiry': 1583469628},\n",
       " {'name': '__qca',\n",
       "  'value': 'P0-892440638-1583469029019',\n",
       "  'path': '/',\n",
       "  'domain': '.goodreads.com',\n",
       "  'secure': False,\n",
       "  'httpOnly': False,\n",
       "  'expiry': 1617337829},\n",
       " {'name': '__gads',\n",
       "  'value': 'ID=257d8a500529f64d:T=1583469026:S=ALNI_MYY8XLYvx_MEoNJnQ8c4n-rW5VBvQ',\n",
       "  'path': '/',\n",
       "  'domain': '.goodreads.com',\n",
       "  'secure': False,\n",
       "  'httpOnly': False,\n",
       "  'expiry': 1646541026},\n",
       " {'name': 'never_show_interstitial',\n",
       "  'value': 'true',\n",
       "  'path': '/',\n",
       "  'domain': 'www.goodreads.com',\n",
       "  'secure': False,\n",
       "  'httpOnly': False,\n",
       "  'expiry': 1899001917},\n",
       " {'name': 'u',\n",
       "  'value': 'W0nCo27LtUiQO2XIcNvGLH7DJJETpwILEUGnS3ETZSluVgRT',\n",
       "  'path': '/',\n",
       "  'domain': 'www.goodreads.com',\n",
       "  'secure': False,\n",
       "  'httpOnly': False,\n",
       "  'expiry': 1591245118},\n",
       " {'name': 'p',\n",
       "  'value': '5J5tIh22qiMyDRozZ_FuHnzamHAscUZGV9hrYWyglsDlcmwR',\n",
       "  'path': '/',\n",
       "  'domain': 'www.goodreads.com',\n",
       "  'secure': False,\n",
       "  'httpOnly': False,\n",
       "  'expiry': 1899001918},\n",
       " {'name': 'fbl',\n",
       "  'value': 'true',\n",
       "  'path': '/',\n",
       "  'domain': 'www.goodreads.com',\n",
       "  'secure': False,\n",
       "  'httpOnly': False,\n",
       "  'expiry': 1591245118},\n",
       " {'name': '__utma',\n",
       "  'value': '250562704.1032535385.1583469028.1583469028.1583469028.1',\n",
       "  'path': '/',\n",
       "  'domain': '.goodreads.com',\n",
       "  'secure': False,\n",
       "  'httpOnly': False,\n",
       "  'expiry': 1646541131},\n",
       " {'name': '__utmz',\n",
       "  'value': '250562704.1583469028.1.1.utmcsr=(direct)|utmccn=(direct)|utmcmd=(none)',\n",
       "  'path': '/',\n",
       "  'domain': '.goodreads.com',\n",
       "  'secure': False,\n",
       "  'httpOnly': False,\n",
       "  'expiry': 1599237131},\n",
       " {'name': '__utmb',\n",
       "  'value': '250562704.3.10.1583469028',\n",
       "  'path': '/',\n",
       "  'domain': '.goodreads.com',\n",
       "  'secure': False,\n",
       "  'httpOnly': False,\n",
       "  'expiry': 1583470931},\n",
       " {'name': '_session_id2',\n",
       "  'value': 'd2997c81f01d49fbe9d3b55556d2d051',\n",
       "  'path': '/',\n",
       "  'domain': 'www.goodreads.com',\n",
       "  'secure': False,\n",
       "  'httpOnly': True,\n",
       "  'expiry': 1583490733}]"
      ]
     },
     "execution_count": 11,
     "metadata": {},
     "output_type": "execute_result"
    }
   ],
   "source": [
    "cookies = driver.get_cookies()\n",
    "cookies"
   ]
  },
  {
   "cell_type": "code",
   "execution_count": 12,
   "metadata": {},
   "outputs": [
    {
     "ename": "AttributeError",
     "evalue": "'list' object has no attribute 'save'",
     "output_type": "error",
     "traceback": [
      "\u001b[1;31m---------------------------------------------------------------------------\u001b[0m",
      "\u001b[1;31mAttributeError\u001b[0m                            Traceback (most recent call last)",
      "\u001b[1;32m<ipython-input-12-ad61abba46bf>\u001b[0m in \u001b[0;36m<module>\u001b[1;34m\u001b[0m\n\u001b[1;32m----> 1\u001b[1;33m \u001b[0mcookies\u001b[0m\u001b[1;33m.\u001b[0m\u001b[0msave\u001b[0m\u001b[1;33m(\u001b[0m\u001b[1;33m)\u001b[0m\u001b[1;33m\u001b[0m\u001b[1;33m\u001b[0m\u001b[0m\n\u001b[0m",
      "\u001b[1;31mAttributeError\u001b[0m: 'list' object has no attribute 'save'"
     ]
    }
   ],
   "source": [
    "cookies.save()"
   ]
  },
  {
   "cell_type": "code",
   "execution_count": 16,
   "metadata": {},
   "outputs": [],
   "source": [
    "cookies=pickle_thing(driver.get_cookies(),\"cookies\")"
   ]
  },
  {
   "cell_type": "code",
   "execution_count": 6,
   "metadata": {},
   "outputs": [],
   "source": [
    "@dataclass\n",
    "class Shelf:\n",
    "    name: str\n",
    "    num_books : int\n",
    "    link: str\n",
    "\n",
    "@dataclass\n",
    "class Book:\n",
    "    title: str\n",
    "    author: str\n",
    "    link: str\n",
    "    isbn13: str\n",
    "    shelf_url : str\n",
    "\n",
    "@task\n",
    "def construct_shelves(profile_url):\n",
    "    driver = webdriver.Firefox(options=opts)\n",
    "    driver.get(profile_url)\n",
    "    shelfContainer = driver.find_elements_by_class_name(\"userShowPageShelfListItem\")\n",
    "    shelves = [grab_shelf(ii) for ii in shelfContainer]\n",
    "    driver.close()\n",
    "    shelves = [asdict(i) for i in shelves]\n",
    "    return shelves\n",
    "\n",
    "def grab_shelf(shelf):\n",
    "    name = re.split(r'\\([0-9]+\\)',shelf.text)[0].replace(\"(\",\"\").replace(\")\",\"\").strip()\n",
    "    num_books = int(re.findall(r'\\([0-9]+\\)',shelf.text)[0].replace(\"(\",\"\").replace(\")\",\"\"))\n",
    "    link = shelf.get_attribute(\"href\")\n",
    "    return Shelf(name,num_books,link)"
   ]
  },
  {
   "cell_type": "code",
   "execution_count": 4,
   "metadata": {},
   "outputs": [],
   "source": [
    "url =\"https://www.goodreads.com/user/show/43182754-crawford-collins\""
   ]
  },
  {
   "cell_type": "code",
   "execution_count": 5,
   "metadata": {},
   "outputs": [],
   "source": [
    "#c = construct_shelves(url)"
   ]
  },
  {
   "cell_type": "code",
   "execution_count": 22,
   "metadata": {},
   "outputs": [],
   "source": [
    "@task\n",
    "def add_shelf_to_db(shelf_dict):\n",
    "    \n",
    "    shelf = Shelf(\n",
    "        name=shelf_dict[\"name\"],\n",
    "        num_books=shelf_dict[\"num_books\"],\n",
    "        link = shelf_dict[\"link\"]\n",
    "    )\n",
    "    driver = webdriver.Firefox(options=opts)\n",
    "    cookies = unpickle_thing(\"cookies\")\n",
    "    for ii in cookies:\n",
    "        driver.add_cookie(ii)\n",
    "    \n",
    "    driver.get(shelf.link)\n",
    "    driver.find_elements_by_id(\"shelfSettingsLink\")[0].click()\n",
    "    driver.find_elements_by_name(\"shelf[display_fields][isbn13]\")[0].click()\n",
    "    while True:\n",
    "        # Scroll down to bottom\n",
    "        driver.execute_script(\"window.scrollTo(0, document.body.scrollHeight);\")\n",
    "\n",
    "        # Wait to load page\n",
    "        # Calculate new scroll height and compare with last scroll height\n",
    "        dd =driver.find_elements_by_id(\"infiniteStatus\")\n",
    "\n",
    "        frac,total = [int(jj) for jj in dd[0].text.replace(\" loaded\",\"\").split(\" of \")]\n",
    "        if frac == total:\n",
    "            break\n",
    "            \n",
    "    titles = driver.find_elements_by_class_name(\"field.title\")\n",
    "    author = driver.find_elements_by_class_name(\"author\")\n",
    "    isbn13 = driver.find_elements_by_class_name(\"isbn13\")\n",
    "\n",
    "    conn = sqlite3.connect('books.db')\n",
    "    curs = conn.cursor()\n",
    "\n",
    "    if len(titles) == len(author) == len(isbn13):\n",
    "        for i in range(1,len(titles)):\n",
    "            bb = Book(\n",
    "                titles[i].text,\n",
    "                author[i].text,\n",
    "                titles[i].find_elements_by_class_name(\"value\")[0].find_element_by_tag_name(\"a\").get_attribute(\"href\"),\n",
    "                isbn13[i].text,\n",
    "                shelf_url = url)\n",
    "            curs.execute(f\"INSERT into books values {astuple(bb)}\")\n",
    "    conn.commit()\n",
    "    curs.close()\n",
    "        \n",
    "    driver.close()       "
   ]
  },
  {
   "cell_type": "code",
   "execution_count": 23,
   "metadata": {},
   "outputs": [
    {
     "name": "stdout",
     "output_type": "stream",
     "text": [
      "[2020-03-06 04:45:33,861] INFO - prefect.FlowRunner | Beginning Flow run for 'shelves_to_db'\n",
      "[2020-03-06 04:45:33,879] INFO - prefect.FlowRunner | Starting flow run.\n",
      "[2020-03-06 04:45:33,925] INFO - prefect.TaskRunner | Task 'user_profile_url': Starting task run...\n",
      "[2020-03-06 04:45:34,025] INFO - prefect.TaskRunner | Task 'user_profile_url': finished task run for task with final state: 'Success'\n",
      "[2020-03-06 04:45:34,075] INFO - prefect.TaskRunner | Task 'construct_shelves': Starting task run...\n",
      "[2020-03-06 04:46:13,348] INFO - prefect.TaskRunner | Task 'construct_shelves': finished task run for task with final state: 'Success'\n",
      "[2020-03-06 04:46:13,416] INFO - prefect.TaskRunner | Task 'add_shelf_to_db': Starting task run...\n",
      "[2020-03-06 04:46:13,511] INFO - prefect.TaskRunner | Task 'add_shelf_to_db[0]': Starting task run...\n",
      "[2020-03-06 04:46:23,410] ERROR - prefect.TaskRunner | Unexpected error: InvalidCookieDomainException('Document is cookie-averse', None, None)\n",
      "Traceback (most recent call last):\n",
      "  File \"c:\\users\\cwcol\\appdata\\local\\programs\\python\\python38-32\\lib\\site-packages\\prefect\\engine\\runner.py\", line 48, in inner\n",
      "    new_state = method(self, state, *args, **kwargs)\n",
      "  File \"c:\\users\\cwcol\\appdata\\local\\programs\\python\\python38-32\\lib\\site-packages\\prefect\\engine\\task_runner.py\", line 876, in get_task_run_state\n",
      "    result = timeout_handler(\n",
      "  File \"c:\\users\\cwcol\\appdata\\local\\programs\\python\\python38-32\\lib\\site-packages\\prefect\\utilities\\executors.py\", line 172, in timeout_handler\n",
      "    return fn(*args, **kwargs)\n",
      "  File \"<ipython-input-22-be040ac1da44>\", line 12, in add_shelf_to_db\n",
      "    driver.add_cookie(ii)\n",
      "  File \"c:\\users\\cwcol\\appdata\\local\\programs\\python\\python38-32\\lib\\site-packages\\selenium\\webdriver\\remote\\webdriver.py\", line 894, in add_cookie\n",
      "    self.execute(Command.ADD_COOKIE, {'cookie': cookie_dict})\n",
      "  File \"c:\\users\\cwcol\\appdata\\local\\programs\\python\\python38-32\\lib\\site-packages\\selenium\\webdriver\\remote\\webdriver.py\", line 321, in execute\n",
      "    self.error_handler.check_response(response)\n",
      "  File \"c:\\users\\cwcol\\appdata\\local\\programs\\python\\python38-32\\lib\\site-packages\\selenium\\webdriver\\remote\\errorhandler.py\", line 242, in check_response\n",
      "    raise exception_class(message, screen, stacktrace)\n",
      "selenium.common.exceptions.InvalidCookieDomainException: Message: Document is cookie-averse\n",
      "\n",
      "[2020-03-06 04:46:23,488] INFO - prefect.TaskRunner | Task 'add_shelf_to_db[0]': finished task run for task with final state: 'Failed'\n",
      "[2020-03-06 04:46:23,504] INFO - prefect.TaskRunner | Task 'add_shelf_to_db[1]': Starting task run...\n",
      "[2020-03-06 04:46:35,630] ERROR - prefect.TaskRunner | Unexpected error: InvalidCookieDomainException('Document is cookie-averse', None, None)\n",
      "Traceback (most recent call last):\n",
      "  File \"c:\\users\\cwcol\\appdata\\local\\programs\\python\\python38-32\\lib\\site-packages\\prefect\\engine\\runner.py\", line 48, in inner\n",
      "    new_state = method(self, state, *args, **kwargs)\n",
      "  File \"c:\\users\\cwcol\\appdata\\local\\programs\\python\\python38-32\\lib\\site-packages\\prefect\\engine\\task_runner.py\", line 876, in get_task_run_state\n",
      "    result = timeout_handler(\n",
      "  File \"c:\\users\\cwcol\\appdata\\local\\programs\\python\\python38-32\\lib\\site-packages\\prefect\\utilities\\executors.py\", line 172, in timeout_handler\n",
      "    return fn(*args, **kwargs)\n",
      "  File \"<ipython-input-22-be040ac1da44>\", line 12, in add_shelf_to_db\n",
      "    driver.add_cookie(ii)\n",
      "  File \"c:\\users\\cwcol\\appdata\\local\\programs\\python\\python38-32\\lib\\site-packages\\selenium\\webdriver\\remote\\webdriver.py\", line 894, in add_cookie\n",
      "    self.execute(Command.ADD_COOKIE, {'cookie': cookie_dict})\n",
      "  File \"c:\\users\\cwcol\\appdata\\local\\programs\\python\\python38-32\\lib\\site-packages\\selenium\\webdriver\\remote\\webdriver.py\", line 321, in execute\n",
      "    self.error_handler.check_response(response)\n",
      "  File \"c:\\users\\cwcol\\appdata\\local\\programs\\python\\python38-32\\lib\\site-packages\\selenium\\webdriver\\remote\\errorhandler.py\", line 242, in check_response\n",
      "    raise exception_class(message, screen, stacktrace)\n",
      "selenium.common.exceptions.InvalidCookieDomainException: Message: Document is cookie-averse\n",
      "\n",
      "[2020-03-06 04:46:35,770] INFO - prefect.TaskRunner | Task 'add_shelf_to_db[1]': finished task run for task with final state: 'Failed'\n",
      "[2020-03-06 04:46:35,811] INFO - prefect.TaskRunner | Task 'add_shelf_to_db[2]': Starting task run...\n",
      "[2020-03-06 04:46:49,683] ERROR - prefect.TaskRunner | Unexpected error: InvalidCookieDomainException('Document is cookie-averse', None, None)\n",
      "Traceback (most recent call last):\n",
      "  File \"c:\\users\\cwcol\\appdata\\local\\programs\\python\\python38-32\\lib\\site-packages\\prefect\\engine\\runner.py\", line 48, in inner\n",
      "    new_state = method(self, state, *args, **kwargs)\n",
      "  File \"c:\\users\\cwcol\\appdata\\local\\programs\\python\\python38-32\\lib\\site-packages\\prefect\\engine\\task_runner.py\", line 876, in get_task_run_state\n",
      "    result = timeout_handler(\n",
      "  File \"c:\\users\\cwcol\\appdata\\local\\programs\\python\\python38-32\\lib\\site-packages\\prefect\\utilities\\executors.py\", line 172, in timeout_handler\n",
      "    return fn(*args, **kwargs)\n",
      "  File \"<ipython-input-22-be040ac1da44>\", line 12, in add_shelf_to_db\n",
      "    driver.add_cookie(ii)\n",
      "  File \"c:\\users\\cwcol\\appdata\\local\\programs\\python\\python38-32\\lib\\site-packages\\selenium\\webdriver\\remote\\webdriver.py\", line 894, in add_cookie\n",
      "    self.execute(Command.ADD_COOKIE, {'cookie': cookie_dict})\n",
      "  File \"c:\\users\\cwcol\\appdata\\local\\programs\\python\\python38-32\\lib\\site-packages\\selenium\\webdriver\\remote\\webdriver.py\", line 321, in execute\n",
      "    self.error_handler.check_response(response)\n",
      "  File \"c:\\users\\cwcol\\appdata\\local\\programs\\python\\python38-32\\lib\\site-packages\\selenium\\webdriver\\remote\\errorhandler.py\", line 242, in check_response\n",
      "    raise exception_class(message, screen, stacktrace)\n",
      "selenium.common.exceptions.InvalidCookieDomainException: Message: Document is cookie-averse\n",
      "\n",
      "[2020-03-06 04:46:49,706] INFO - prefect.TaskRunner | Task 'add_shelf_to_db[2]': finished task run for task with final state: 'Failed'\n",
      "[2020-03-06 04:46:49,745] INFO - prefect.TaskRunner | Task 'add_shelf_to_db[3]': Starting task run...\n",
      "[2020-03-06 04:47:09,611] ERROR - prefect.TaskRunner | Unexpected error: InvalidCookieDomainException('Document is cookie-averse', None, None)\n",
      "Traceback (most recent call last):\n",
      "  File \"c:\\users\\cwcol\\appdata\\local\\programs\\python\\python38-32\\lib\\site-packages\\prefect\\engine\\runner.py\", line 48, in inner\n",
      "    new_state = method(self, state, *args, **kwargs)\n",
      "  File \"c:\\users\\cwcol\\appdata\\local\\programs\\python\\python38-32\\lib\\site-packages\\prefect\\engine\\task_runner.py\", line 876, in get_task_run_state\n",
      "    result = timeout_handler(\n",
      "  File \"c:\\users\\cwcol\\appdata\\local\\programs\\python\\python38-32\\lib\\site-packages\\prefect\\utilities\\executors.py\", line 172, in timeout_handler\n",
      "    return fn(*args, **kwargs)\n",
      "  File \"<ipython-input-22-be040ac1da44>\", line 12, in add_shelf_to_db\n",
      "    driver.add_cookie(ii)\n",
      "  File \"c:\\users\\cwcol\\appdata\\local\\programs\\python\\python38-32\\lib\\site-packages\\selenium\\webdriver\\remote\\webdriver.py\", line 894, in add_cookie\n",
      "    self.execute(Command.ADD_COOKIE, {'cookie': cookie_dict})\n",
      "  File \"c:\\users\\cwcol\\appdata\\local\\programs\\python\\python38-32\\lib\\site-packages\\selenium\\webdriver\\remote\\webdriver.py\", line 321, in execute\n",
      "    self.error_handler.check_response(response)\n",
      "  File \"c:\\users\\cwcol\\appdata\\local\\programs\\python\\python38-32\\lib\\site-packages\\selenium\\webdriver\\remote\\errorhandler.py\", line 242, in check_response\n",
      "    raise exception_class(message, screen, stacktrace)\n",
      "selenium.common.exceptions.InvalidCookieDomainException: Message: Document is cookie-averse\n",
      "\n",
      "[2020-03-06 04:47:09,625] INFO - prefect.TaskRunner | Task 'add_shelf_to_db[3]': finished task run for task with final state: 'Failed'\n",
      "[2020-03-06 04:47:09,733] INFO - prefect.TaskRunner | Task 'add_shelf_to_db': finished task run for task with final state: 'Mapped'\n",
      "[2020-03-06 04:47:09,736] INFO - prefect.FlowRunner | Flow run FAILED: some reference tasks failed.\n"
     ]
    },
    {
     "data": {
      "text/plain": [
       "<Failed: \"Some reference tasks failed.\">"
      ]
     },
     "execution_count": 23,
     "metadata": {},
     "output_type": "execute_result"
    }
   ],
   "source": [
    "url =\"https://www.goodreads.com/user/show/43182754-crawford-collins\"\n",
    "\n",
    "with Flow(\"shelves_to_db\") as flow:\n",
    "    user_profile_url = Parameter(\"user_profile_url\")\n",
    "    shelves = construct_shelves(user_profile_url)\n",
    "    add_shelf_to_db.map(shelf_dict = shelves)\n",
    "    \n",
    "flow.run(\n",
    "    user_profile_url = url\n",
    ")"
   ]
  },
  {
   "cell_type": "code",
   "execution_count": 8,
   "metadata": {},
   "outputs": [],
   "source": [
    "def sqlite_helper(query_str,db_name):\n",
    "    conn = sqlite3.connect(db_name)\n",
    "    curs = conn.cursor()\n",
    "    curs.execute(query_str)\n",
    "    output =  curs.fetchall()\n",
    "    conn.commit()\n",
    "    conn.close()\n",
    "    return output"
   ]
  },
  {
   "cell_type": "code",
   "execution_count": 9,
   "metadata": {},
   "outputs": [],
   "source": [
    "query_str = \"SELECT Count(*) from books\"\n",
    "db_name = 'books.db'\n",
    "output = sqlite_helper(query_str,db_name)"
   ]
  },
  {
   "cell_type": "code",
   "execution_count": 10,
   "metadata": {},
   "outputs": [
    {
     "data": {
      "text/plain": [
       "[(207,)]"
      ]
     },
     "execution_count": 10,
     "metadata": {},
     "output_type": "execute_result"
    }
   ],
   "source": [
    "output"
   ]
  },
  {
   "cell_type": "code",
   "execution_count": null,
   "metadata": {},
   "outputs": [],
   "source": []
  },
  {
   "cell_type": "code",
   "execution_count": null,
   "metadata": {},
   "outputs": [],
   "source": []
  }
 ],
 "metadata": {
  "kernelspec": {
   "display_name": "Python 3",
   "language": "python",
   "name": "python3"
  },
  "language_info": {
   "codemirror_mode": {
    "name": "ipython",
    "version": 3
   },
   "file_extension": ".py",
   "mimetype": "text/x-python",
   "name": "python",
   "nbconvert_exporter": "python",
   "pygments_lexer": "ipython3",
   "version": "3.8.1"
  }
 },
 "nbformat": 4,
 "nbformat_minor": 4
}
