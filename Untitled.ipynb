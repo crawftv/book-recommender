{
 "cells": [
  {
   "cell_type": "code",
   "execution_count": 1,
   "metadata": {},
   "outputs": [],
   "source": [
    "from dataclasses import dataclass\n",
    "import re\n",
    "import time"
   ]
  },
  {
   "cell_type": "code",
   "execution_count": 2,
   "metadata": {},
   "outputs": [],
   "source": [
    "from selenium import webdriver\n",
    "from selenium.webdriver.common.keys import Keys\n",
    "\n",
    "driver = webdriver.Firefox()\n",
    "driver.get(\"https://www.goodreads.com/user/show/43182754-crawford-collins\")"
   ]
  },
  {
   "cell_type": "code",
   "execution_count": 3,
   "metadata": {},
   "outputs": [],
   "source": [
    "shelfContainer = driver.find_elements_by_class_name(\"userShowPageShelfListItem\")"
   ]
  },
  {
   "cell_type": "code",
   "execution_count": 28,
   "metadata": {},
   "outputs": [],
   "source": [
    "@dataclass\n",
    "class Shelf:\n",
    "    name: str\n",
    "    num_books : int\n",
    "    link: str\n",
    "\n",
    "@dataclass\n",
    "class Book:\n",
    "    title: str\n",
    "    author: str\n",
    "    link: str\n",
    "\n",
    "\n",
    "def construct_shelves(url):\n",
    "    driver = webdriver.Firefox()\n",
    "    driver.get(url)\n",
    "    shelfContainer = driver.find_elements_by_class_name(\"userShowPageShelfListItem\")\n",
    "    shelves = [grab_shelf(ii) for ii in shelfContainer]\n",
    "    return shelves\n",
    "\n",
    "def grab_shelf(shelf):\n",
    "    name = re.split(r'\\([0-9]+\\)',shelf.text)[0].replace(\"(\",\"\").replace(\")\",\"\").strip()\n",
    "    num_books = int(re.findall(r'\\([0-9]+\\)',shelf.text)[0].replace(\"(\",\"\").replace(\")\",\"\"))\n",
    "    link = shelf.get_attribute(\"href\")\n",
    "    return Shelf(name,num_books,link)\n",
    "\n"
   ]
  },
  {
   "cell_type": "code",
   "execution_count": 7,
   "metadata": {},
   "outputs": [
    {
     "data": {
      "text/plain": [
       "[Shelf(name='read', num_books=207, link='https://www.goodreads.com/review/list/43182754?shelf=read'),\n",
       " Shelf(name='currently-reading', num_books=7, link='https://www.goodreads.com/review/list/43182754?shelf=currently-reading'),\n",
       " Shelf(name='to-read', num_books=812, link='https://www.goodreads.com/review/list/43182754?shelf=to-read'),\n",
       " Shelf(name='books-owned-but-not-read', num_books=15, link='https://www.goodreads.com/review/list/43182754?shelf=books-owned-but-not-read')]"
      ]
     },
     "execution_count": 7,
     "metadata": {},
     "output_type": "execute_result"
    }
   ],
   "source": [
    "url =\"https://www.goodreads.com/user/show/43182754-crawford-collins\"\n",
    "construct_shelves(url)"
   ]
  },
  {
   "cell_type": "code",
   "execution_count": 8,
   "metadata": {},
   "outputs": [],
   "source": [
    "c = construct_shelves(url)"
   ]
  },
  {
   "cell_type": "code",
   "execution_count": null,
   "metadata": {},
   "outputs": [],
   "source": [
    "c[0]"
   ]
  },
  {
   "cell_type": "code",
   "execution_count": 9,
   "metadata": {},
   "outputs": [],
   "source": [
    "driver.get(c[0].link)"
   ]
  },
  {
   "cell_type": "code",
   "execution_count": 10,
   "metadata": {},
   "outputs": [],
   "source": [
    "dd =driver.find_elements_by_id(\"infiniteStatus\")"
   ]
  },
  {
   "cell_type": "code",
   "execution_count": 11,
   "metadata": {},
   "outputs": [
    {
     "data": {
      "text/plain": [
       "'30 of 207 loaded'"
      ]
     },
     "execution_count": 11,
     "metadata": {},
     "output_type": "execute_result"
    }
   ],
   "source": [
    "dd[0].text"
   ]
  },
  {
   "cell_type": "code",
   "execution_count": 12,
   "metadata": {},
   "outputs": [],
   "source": [
    "frac,total = [int(jj) for jj in dd[0].text.replace(\" loaded\",\"\").split(\" of \")]"
   ]
  },
  {
   "cell_type": "code",
   "execution_count": 13,
   "metadata": {},
   "outputs": [],
   "source": [
    "SCROLL_PAUSE_TIME = 0.5\n",
    "\n",
    "while True:\n",
    "    # Scroll down to bottom\n",
    "    driver.execute_script(\"window.scrollTo(0, document.body.scrollHeight);\")\n",
    "\n",
    "    # Wait to load page\n",
    "    time.sleep(SCROLL_PAUSE_TIME)\n",
    "\n",
    "    # Calculate new scroll height and compare with last scroll height\n",
    "    dd =driver.find_elements_by_id(\"infiniteStatus\")\n",
    "    \n",
    "    frac,total = [int(jj) for jj in dd[0].text.replace(\" loaded\",\"\").split(\" of \")]\n",
    "    if frac == total:\n",
    "        break\n"
   ]
  },
  {
   "cell_type": "code",
   "execution_count": 14,
   "metadata": {},
   "outputs": [
    {
     "data": {
      "text/plain": [
       "(207, 207)"
      ]
     },
     "execution_count": 14,
     "metadata": {},
     "output_type": "execute_result"
    }
   ],
   "source": [
    "frac,total"
   ]
  },
  {
   "cell_type": "code",
   "execution_count": 22,
   "metadata": {},
   "outputs": [],
   "source": [
    "titles = driver.find_elements_by_class_name(\"field.title\")\n",
    "author = driver.find_elements_by_class_name(\"author\")\n"
   ]
  },
  {
   "cell_type": "code",
   "execution_count": 25,
   "metadata": {},
   "outputs": [
    {
     "data": {
      "text/plain": [
       "(208, 208)"
      ]
     },
     "execution_count": 25,
     "metadata": {},
     "output_type": "execute_result"
    }
   ],
   "source": [
    "len(titles),len(author)"
   ]
  },
  {
   "cell_type": "code",
   "execution_count": 68,
   "metadata": {},
   "outputs": [],
   "source": [
    "books = []\n",
    "for i in range(1,len(titles)):\n",
    "    bb = Book(titles[i].text,author[i].text,titles[i].find_elements_by_class_name(\"value\")[0].find_element_by_tag_name(\"a\").get_attribute(\"href\"))\n",
    "    books.append(bb)"
   ]
  },
  {
   "cell_type": "code",
   "execution_count": 71,
   "metadata": {},
   "outputs": [
    {
     "data": {
      "text/plain": [
       "[Book(title='The Arab of the Future: A Childhood in the Middle East, 1978-1984: A Graphic Memoir', author='Sattouf, Riad', link='https://www.goodreads.com/book/show/23168840-the-arab-of-the-future'),\n",
       " Book(title='So Many Doors', author='Hall, Oakley', link='https://www.goodreads.com/book/show/2771304-so-many-doors'),\n",
       " Book(title='The Call of the Wild', author='London, Jack', link='https://www.goodreads.com/book/show/1852.The_Call_of_the_Wild'),\n",
       " Book(title='How To Industrialize Mars: A Strategy For Self-Sufficiency: How To Settle A Lethal Vacuum In 400 Easy Steps', author='Handmer, Casey', link='https://www.goodreads.com/book/show/41558025-how-to-industrialize-mars'),\n",
       " Book(title='Self Reliance', author='Emerson, Ralph Waldo', link='https://www.goodreads.com/book/show/18903959-self-reliance'),\n",
       " Book(title='I Hope They Serve Beer in Hell (Tucker Max, #1)', author='Max, Tucker *', link='https://www.goodreads.com/book/show/9010.I_Hope_They_Serve_Beer_in_Hell'),\n",
       " Book(title='The Butterfly Effect', author='Ronson, Jon', link='https://www.goodreads.com/book/show/35841729-the-butterfly-effect'),\n",
       " Book(title='Anki Essentials v1.1: The complete guide to remembering anything with Anki', author='Vermeer, Alex *', link='https://www.goodreads.com/book/show/35098521-anki-essentials-v1-1'),\n",
       " Book(title='Maximize Your Potential: Grow Your Expertise, Take Bold Risks & Build an Incredible Career (The 99U Book Series)', author='Glei, Jocelyn K. *', link='https://www.goodreads.com/book/show/18878000-maximize-your-potential'),\n",
       " Book(title='Infinity Gauntlet', author='Pérez, George', link='https://www.goodreads.com/book/show/398916.Infinity_Gauntlet'),\n",
       " Book(title='Leaves of Grass', author='Whitman, Walt', link='https://www.goodreads.com/book/show/27494.Leaves_of_Grass'),\n",
       " Book(title='Make Your Own Mandelbrot', author='Rashid, Tariq', link='https://www.goodreads.com/book/show/22171823-make-your-own-mandelbrot'),\n",
       " Book(title='How to Get Rich', author='Dennis, Felix', link='https://www.goodreads.com/book/show/1837402.How_to_Get_Rich'),\n",
       " Book(title='No Earth for Foxes', author=\"O'Brine, Manning\", link='https://www.goodreads.com/book/show/3922643-no-earth-for-foxes'),\n",
       " Book(title='Foundation (Foundation, #1)', author='Asimov, Isaac', link='https://www.goodreads.com/book/show/40793127-foundation'),\n",
       " Book(title='The Hobbit, or There and Back Again', author='Tolkien, J.R.R.', link='https://www.goodreads.com/book/show/5907.The_Hobbit_or_There_and_Back_Again'),\n",
       " Book(title='Great at Work: How Top Performers Do Less, Work Better, and Achieve More', author='Hansen, Morten T.', link='https://www.goodreads.com/book/show/35297611-great-at-work'),\n",
       " Book(title='Skin in the Game: Hidden Asymmetries in Daily Life', author='Taleb, Nassim Nicholas *', link='https://www.goodreads.com/book/show/36277162-skin-in-the-game'),\n",
       " Book(title='X-Treme Latin: All the Latin You Need to Know for Survival in the 21st Century', author='Beard, Henry N.', link='https://www.goodreads.com/book/show/20706639-x-treme-latin'),\n",
       " Book(title='The Book of Satoshi: The Collected Writings of Bitcoin Creator Satoshi Nakamoto', author='Champagne, Phil', link='https://www.goodreads.com/book/show/22619661-the-book-of-satoshi'),\n",
       " Book(title='The Education of a Poker Player', author='Yardley, Herbert O.', link='https://www.goodreads.com/book/show/28405394-the-education-of-a-poker-player'),\n",
       " Book(title='Woman Rebel: The Margaret Sanger Story', author='Bagge, Peter', link='https://www.goodreads.com/book/show/17287065-woman-rebel'),\n",
       " Book(title='Think and Grow Rich', author='Hill, Napoleon', link='https://www.goodreads.com/book/show/36493349-think-and-grow-rich'),\n",
       " Book(title='How to Solve It: A New Aspect of Mathematical Method', author='Pólya, George', link='https://www.goodreads.com/book/show/21981721-how-to-solve-it'),\n",
       " Book(title='The Art and Science of Low Carbohydrate Living: An Expert Guide to Making the Life-Saving Benefits of Carbohydrate Restriction Sustainable and Enjoyable', author='Volek, Jeff S.', link='https://www.goodreads.com/book/show/13502615-the-art-and-science-of-low-carbohydrate-living'),\n",
       " Book(title='The Scarlet Letter', author='Hawthorne, Nathaniel', link='https://www.goodreads.com/book/show/12296.The_Scarlet_Letter'),\n",
       " Book(title='The History of Ancient Egypt', author='Brier, Bob', link='https://www.goodreads.com/book/show/19548288-the-history-of-ancient-egypt'),\n",
       " Book(title='Margin of Safety: Risk-Averse Value Investing Strategies for the Thoughtful Investor', author='Klarman, Seth A.', link='https://www.goodreads.com/book/show/746936.Margin_of_Safety'),\n",
       " Book(title=\"Conviction (Tom Clancy's Splinter Cell, #5)\", author='Michaels, David', link='https://www.goodreads.com/book/show/6535672-conviction'),\n",
       " Book(title=\"Fallout (Tom Clancy's Splinter Cell, #4)\", author='Michaels, David', link='https://www.goodreads.com/book/show/479453.Fallout'),\n",
       " Book(title=\"Checkmate (Tom Clancy's Splinter Cell, #3)\", author='Michaels, David', link='https://www.goodreads.com/book/show/13397.Checkmate'),\n",
       " Book(title=\"Operation Barracuda (Tom Clancy's Splinter Cell, #2)\", author='Michaels, David', link='https://www.goodreads.com/book/show/13398.Operation_Barracuda'),\n",
       " Book(title=\"Splinter Cell (Tom Clancy's Splinter Cell, #1)\", author='Michaels, David', link='https://www.goodreads.com/book/show/13399.Splinter_Cell'),\n",
       " Book(title='Bayes Theorem: A Visual Introduction For Beginners', author='Morris, Dan', link='https://www.goodreads.com/book/show/32488786-bayes-theorem'),\n",
       " Book(title='An Introduction to Information Theory: Symbols, Signals and Noise', author='Pierce, John Robinson', link='https://www.goodreads.com/book/show/433443.An_Introduction_to_Information_Theory'),\n",
       " Book(title='Discipline Equals Freedom: Field Manual', author='Willink, Jocko *', link='https://www.goodreads.com/book/show/34431560-discipline-equals-freedom'),\n",
       " Book(title='True Grit', author='Portis, Charles', link='https://www.goodreads.com/book/show/10336372-true-grit'),\n",
       " Book(title='Animal Farm', author='Orwell, George', link='https://www.goodreads.com/book/show/7614.Animal_Farm'),\n",
       " Book(title=\"Liar's Poker\", author='Lewis, Michael', link='https://www.goodreads.com/book/show/1171.Liar_s_Poker'),\n",
       " Book(title='Aphorisms and Thoughts', author='Bonaparte, Napoléon', link='https://www.goodreads.com/book/show/35180210-aphorisms-and-thoughts'),\n",
       " Book(title=\"A Connecticut Yankee in King Arthur's Court\", author='Twain, Mark', link='https://www.goodreads.com/book/show/36157763-a-connecticut-yankee-in-king-arthur-s-court'),\n",
       " Book(title='The Last Battle (Chronicles of Narnia, #7)', author='Lewis, C.S.', link='https://www.goodreads.com/book/show/84369.The_Last_Battle'),\n",
       " Book(title='The Silver Chair (Chronicles of Narnia, #4)', author='Lewis, C.S.', link='https://www.goodreads.com/book/show/65641.The_Silver_Chair'),\n",
       " Book(title='The Horse and His Boy (Chronicles of Narnia, #5)', author='Lewis, C.S.', link='https://www.goodreads.com/book/show/84119.The_Horse_and_His_Boy'),\n",
       " Book(title='Prince Caspian (Chronicles of Narnia, #2)', author='Lewis, C.S.', link='https://www.goodreads.com/book/show/121749.Prince_Caspian'),\n",
       " Book(title=\"The Magician's Nephew (Chronicles of Narnia, #6)\", author='Lewis, C.S.', link='https://www.goodreads.com/book/show/65605.The_Magician_s_Nephew'),\n",
       " Book(title='The Voyage of the Dawn Treader (Chronicles of Narnia, #3)', author='Lewis, C.S.', link='https://www.goodreads.com/book/show/140225.The_Voyage_of_the_Dawn_Treader'),\n",
       " Book(title='The Lion, the Witch and the Wardrobe (Chronicles of Narnia, #1)', author='Lewis, C.S.', link='https://www.goodreads.com/book/show/100915.The_Lion_the_Witch_and_the_Wardrobe'),\n",
       " Book(title='Rammer Jammer Yellow Hammer: A Road Trip into the Heart of Fan Mania', author='St. John, Warren', link='https://www.goodreads.com/book/show/90007.Rammer_Jammer_Yellow_Hammer'),\n",
       " Book(title='Hidden In Plain Sight 8: How To Make An Atomic Bomb', author='Thomas, Andrew', link='https://www.goodreads.com/book/show/35922944-hidden-in-plain-sight-8'),\n",
       " Book(title='The History of Spain: Land on a Crossroad', author='Salisbury, Joyce E.', link='https://www.goodreads.com/book/show/37925104-the-history-of-spain'),\n",
       " Book(title='Sharp Sports Betting', author='Wong, Stanford', link='https://www.goodreads.com/book/show/18883688-sharp-sports-betting'),\n",
       " Book(title='Harry Potter and the Half-Blood Prince (Harry Potter, #6)', author='Rowling, J.K.', link='https://www.goodreads.com/book/show/1.Harry_Potter_and_the_Half_Blood_Prince'),\n",
       " Book(title='Harry Potter and the Order of the Phoenix (Harry Potter, #5)', author='Rowling, J.K.', link='https://www.goodreads.com/book/show/2.Harry_Potter_and_the_Order_of_the_Phoenix'),\n",
       " Book(title='Harry Potter and the Deathly Hallows (Harry Potter, #7)', author='Rowling, J.K.', link='https://www.goodreads.com/book/show/136251.Harry_Potter_and_the_Deathly_Hallows'),\n",
       " Book(title='Harry Potter and the Goblet of Fire (Harry Potter, #4)', author='Rowling, J.K.', link='https://www.goodreads.com/book/show/6.Harry_Potter_and_the_Goblet_of_Fire'),\n",
       " Book(title='Harry Potter and the Chamber of Secrets (Harry Potter, #2)', author='Rowling, J.K.', link='https://www.goodreads.com/book/show/15881.Harry_Potter_and_the_Chamber_of_Secrets'),\n",
       " Book(title='Harry Potter and the Prisoner of Azkaban (Harry Potter, #3)', author='Rowling, J.K.', link='https://www.goodreads.com/book/show/5.Harry_Potter_and_the_Prisoner_of_Azkaban'),\n",
       " Book(title=\"Harry Potter and the Sorcerer's Stone (Harry Potter, #1)\", author='Rowling, J.K.', link='https://www.goodreads.com/book/show/3.Harry_Potter_and_the_Sorcerer_s_Stone'),\n",
       " Book(title='From Bauhaus to Our House', author='Wolfe, Tom', link='https://www.goodreads.com/book/show/1310839.From_Bauhaus_to_Our_House'),\n",
       " Book(title='Idea Makers: Personal Perspectives on the Lives & Ideas of Some Notable People', author='Wolfram, Stephen', link='https://www.goodreads.com/book/show/30618260-idea-makers'),\n",
       " Book(title='Black Elk Speaks', author='Neihardt, John G.', link='https://www.goodreads.com/book/show/627519.Black_Elk_Speaks'),\n",
       " Book(title='The Devil in the White City: Murder, Magic, and Madness at the Fair That Changed America', author='Larson, Erik *', link='https://www.goodreads.com/book/show/21996.The_Devil_in_the_White_City'),\n",
       " Book(title='On the Road: The Original Scroll', author='Kerouac, Jack', link='https://www.goodreads.com/book/show/2636730-on-the-road'),\n",
       " Book(title='So, Anyway...', author='Cleese, John', link='https://www.goodreads.com/book/show/22460748-so-anyway'),\n",
       " Book(title='Programming Phoenix: Productive |> Reliable |> Fast', author='McCord, Chris', link='https://www.goodreads.com/book/show/30240180-programming-phoenix'),\n",
       " Book(title='Heart of Darkness', author='Conrad, Joseph', link='https://www.goodreads.com/book/show/4900.Heart_of_Darkness'),\n",
       " Book(title=\"Life, the Universe and Everything (Hitchhiker's Guide to the Galaxy, #3)\", author='Adams, Douglas', link='https://www.goodreads.com/book/show/8694.Life_the_Universe_and_Everything'),\n",
       " Book(title=\"So Long, and Thanks for All the Fish (Hitchhiker's Guide to the Galaxy, #4)\", author='Adams, Douglas', link='https://www.goodreads.com/book/show/6091075-so-long-and-thanks-for-all-the-fish'),\n",
       " Book(title=\"The Restaurant at the End of the Universe (Hitchhiker's Guide to the Galaxy, #2)\", author='Adams, Douglas', link='https://www.goodreads.com/book/show/8695.The_Restaurant_at_the_End_of_the_Universe'),\n",
       " Book(title='Taggerung (Redwall, #14)', author='Jacques, Brian', link='https://www.goodreads.com/book/show/7976.Taggerung'),\n",
       " Book(title='Triss (Redwall, #15)', author='Jacques, Brian', link='https://www.goodreads.com/book/show/8001.Triss'),\n",
       " Book(title='Marlfox (Redwall, #11)', author='Jacques, Brian', link='https://www.goodreads.com/book/show/7999.Marlfox'),\n",
       " Book(title='The Bellmaker (Redwall, #7)', author='Jacques, Brian', link='https://www.goodreads.com/book/show/7979.The_Bellmaker'),\n",
       " Book(title='Pearls of Lutra (Redwall, #9)', author='Jacques, Brian', link='https://www.goodreads.com/book/show/7980.Pearls_of_Lutra'),\n",
       " Book(title='Outcast of Redwall (Redwall, #8)', author='Jacques, Brian', link='https://www.goodreads.com/book/show/7998.Outcast_of_Redwall'),\n",
       " Book(title='Mariel of Redwall (Redwall, #4)', author='Jacques, Brian', link='https://www.goodreads.com/book/show/7993.Mariel_of_Redwall'),\n",
       " Book(title='Salamandastron (Redwall, #5)', author='Jacques, Brian', link='https://www.goodreads.com/book/show/7983.Salamandastron'),\n",
       " Book(title='Lord Brocktree (Redwall, #13)', author='Jacques, Brian', link='https://www.goodreads.com/book/show/99085.Lord_Brocktree'),\n",
       " Book(title='Mattimeo (Redwall, #3)', author='Jacques, Brian', link='https://www.goodreads.com/book/show/201342.Mattimeo'),\n",
       " Book(title='Martin the Warrior (Redwall, #6)', author='Jacques, Brian', link='https://www.goodreads.com/book/show/201345.Martin_the_Warrior'),\n",
       " Book(title='Mossflower (Redwall, #2)', author='Jacques, Brian', link='https://www.goodreads.com/book/show/201341.Mossflower'),\n",
       " Book(title='Redwall (Redwall, #1)', author='Jacques, Brian', link='https://www.goodreads.com/book/show/7996.Redwall'),\n",
       " Book(title='The Grapes of Wrath', author='Steinbeck, John', link='https://www.goodreads.com/book/show/18114322-the-grapes-of-wrath'),\n",
       " Book(title='The Red Pony', author='Steinbeck, John', link='https://www.goodreads.com/book/show/8732.The_Red_Pony'),\n",
       " Book(title='Frankenstein', author='Shelley, Mary', link='https://www.goodreads.com/book/show/18490.Frankenstein'),\n",
       " Book(title='The Eagle Has Landed (Liam Devlin, #1)', author='Higgins, Jack', link='https://www.goodreads.com/book/show/295961.The_Eagle_Has_Landed'),\n",
       " Book(title=\"Thank You for Coming to Hattiesburg: One Comedian's Tour of Not-Quite-the-Biggest Cities in the World\", author='Barry, Todd', link='https://www.goodreads.com/book/show/30753766-thank-you-for-coming-to-hattiesburg'),\n",
       " Book(title='Unbeatable Mind: Forge Resiliency and Mental Toughness to Succeed at an Elite Level', author='Divine, Mark *', link='https://www.goodreads.com/book/show/25030935-unbeatable-mind'),\n",
       " Book(title='A Game of Thrones (A Song of Ice and Fire, #1)', author='Martin, George R.R.', link='https://www.goodreads.com/book/show/13496.A_Game_of_Thrones'),\n",
       " Book(title='The Enigma of Reason', author='Mercier, Hugo', link='https://www.goodreads.com/book/show/34860318-the-enigma-of-reason'),\n",
       " Book(title='5/3/1: The Simplest and Most Effective Training System for Raw Strength', author='Wendler, Jim', link='https://www.goodreads.com/book/show/18828833-5-3-1'),\n",
       " Book(title='Clear Your Clutter with Feng Shui', author='Kingston, Karen *', link='https://www.goodreads.com/book/show/27071482-clear-your-clutter-with-feng-shui'),\n",
       " Book(title='Iron and Silk', author='Salzman, Mark', link='https://www.goodreads.com/book/show/685391.Iron_and_Silk'),\n",
       " Book(title=\"A Burglar's Guide to the City\", author='Manaugh, Geoff', link='https://www.goodreads.com/book/show/22237142-a-burglar-s-guide-to-the-city'),\n",
       " Book(title='The $100 Startup: Reinvent the Way You Make a Living, Do What You Love, and Create a New Future', author='Guillebeau, Chris *', link='https://www.goodreads.com/book/show/12605157-the-100-startup'),\n",
       " Book(title='Fluent in 3 Months: How Anyone at Any Age Can Learn to Speak Any Language from Anywhere in the World', author='Lewis, Benny *', link='https://www.goodreads.com/book/show/18085519-fluent-in-3-months'),\n",
       " Book(title='Make Your Own Neural Network', author='Rashid, Tariq', link='https://www.goodreads.com/book/show/29746976-make-your-own-neural-network'),\n",
       " Book(title='Ego Is the Enemy', author='Holiday, Ryan *', link='https://www.goodreads.com/book/show/27036528-ego-is-the-enemy'),\n",
       " Book(title='Plato and a Platypus Walk Into a Bar: Understanding Philosophy Through Jokes', author='Cathcart, Thomas', link='https://www.goodreads.com/book/show/180995.Plato_and_a_Platypus_Walk_Into_a_Bar'),\n",
       " Book(title='The Achievement Habit: Stop Wishing, Start Doing, and Take Command of Your Life', author='Roth, Bernard', link='https://www.goodreads.com/book/show/25747742-the-achievement-habit'),\n",
       " Book(title='The Match: The Day the Game of Golf Changed Forever', author='Frost, Mark *', link='https://www.goodreads.com/book/show/571428.The_Match'),\n",
       " Book(title='The Urban Monk: Eastern Wisdom and Modern Hacks to Stop Time and Find Success, Happiness, and Peace', author='Shojai, Pedram', link='https://www.goodreads.com/book/show/25664522-the-urban-monk'),\n",
       " Book(title='Hollywood Said No!: Orphaned Film Scripts, Bastard Scenes, and Abandoned Darlings from the Creators of Mr. Show', author='Odenkirk, Bob', link='https://www.goodreads.com/book/show/17333439-hollywood-said-no'),\n",
       " Book(title='Everything is Obvious: Once You Know the Answer', author='Watts, Duncan J.', link='https://www.goodreads.com/book/show/9206187-everything-is-obvious'),\n",
       " Book(title='Perilous Interventions: The Security Council and the Politics of Chaos', author='Puri, Hardeep Singh', link='https://www.goodreads.com/book/show/32313810-perilous-interventions'),\n",
       " Book(title='Beowulf', author='Unknown', link='https://www.goodreads.com/book/show/52357.Beowulf'),\n",
       " Book(title='The Men Who Stare at Goats', author='Ronson, Jon', link='https://www.goodreads.com/book/show/1824.The_Men_Who_Stare_at_Goats'),\n",
       " Book(title='Diamonds Are Forever (James Bond, #4)', author='Fleming, Ian', link='https://www.goodreads.com/book/show/3760.Diamonds_Are_Forever'),\n",
       " Book(title='The Hero With a Thousand Faces', author='Campbell, Joseph', link='https://www.goodreads.com/book/show/588138.The_Hero_With_a_Thousand_Faces'),\n",
       " Book(title='Atomic Design', author='Frost, Brad', link='https://www.goodreads.com/book/show/35496817-atomic-design'),\n",
       " Book(title='How To Read Water: Clues & Patterns from Puddles to the Sea', author='Gooley, Tristan *', link='https://www.goodreads.com/book/show/29396396-how-to-read-water'),\n",
       " Book(title=\"But What If We're Wrong? Thinking About the Present As If It Were the Past\", author='Klosterman, Chuck', link='https://www.goodreads.com/book/show/27068734-but-what-if-we-re-wrong-thinking-about-the-present-as-if-it-were-the-pa'),\n",
       " Book(title=\"A Spy's Guide to Thinking\", author='Braddock, John *', link='https://www.goodreads.com/book/show/25677935-a-spy-s-guide-to-thinking'),\n",
       " Book(title='The Art of War', author='Sun Tzu', link='https://www.goodreads.com/book/show/10534.The_Art_of_War'),\n",
       " Book(title='Killing and Dying: Stories', author='Tomine, Adrian', link='https://www.goodreads.com/book/show/23848562-killing-and-dying'),\n",
       " Book(title='Are We Smart Enough to Know How Smart Animals Are?', author='de Waal, Frans', link='https://www.goodreads.com/book/show/26530322-are-we-smart-enough-to-know-how-smart-animals-are'),\n",
       " Book(title='A New Kind of Science', author='Wolfram, Stephen', link='https://www.goodreads.com/book/show/238558.A_New_Kind_of_Science'),\n",
       " Book(title='Drinking at the Movies', author='Wertz, Julia *', link='https://www.goodreads.com/book/show/8489053-drinking-at-the-movies'),\n",
       " Book(title='Extreme Ownership: How U.S. Navy SEALs Lead and Win', author='Willink, Jocko *', link='https://www.goodreads.com/book/show/23848190-extreme-ownership'),\n",
       " Book(title='Bringing Down the House: The Inside Story of Six M.I.T. Students Who Took Vegas for Millions', author='Mezrich, Ben *', link='https://www.goodreads.com/book/show/514313.Bringing_Down_the_House'),\n",
       " Book(title='Ugly Americans: The True Story of the Ivy League Cowboys Who Raided the Asian Markets for Millions', author='Mezrich, Ben *', link='https://www.goodreads.com/book/show/86161.Ugly_Americans'),\n",
       " Book(title='Finite and Infinite Games: A Vision of Life as Play and Possibility', author='Carse, James P.', link='https://www.goodreads.com/book/show/189989.Finite_and_Infinite_Games'),\n",
       " Book(title='Ghost Wars: The Secret History of the CIA, Afghanistan, and Bin Laden from the Soviet Invasion to September 10, 2001', author='Coll, Steve', link='https://www.goodreads.com/book/show/71984.Ghost_Wars'),\n",
       " Book(title='Real Food/Fake Food: Why You Don’t Know What You’re Eating and What You Can Do About It', author='Olmsted, Larry', link='https://www.goodreads.com/book/show/28110861-real-food-fake-food'),\n",
       " Book(title='Boyd: The Fighter Pilot Who Changed the Art of War', author='Coram, Robert', link='https://www.goodreads.com/book/show/38840.Boyd'),\n",
       " Book(title=\"It's Kind of a Funny Story\", author='Vizzini, Ned', link='https://www.goodreads.com/book/show/248704.It_s_Kind_of_a_Funny_Story'),\n",
       " Book(title='The Road', author='McCarthy, Cormac', link='https://www.goodreads.com/book/show/6288.The_Road'),\n",
       " Book(title='Blood Meridian, or the Evening Redness in the West', author='McCarthy, Cormac', link='https://www.goodreads.com/book/show/394535.Blood_Meridian_or_the_Evening_Redness_in_the_West'),\n",
       " Book(title='Yes Please', author='Poehler, Amy', link='https://www.goodreads.com/book/show/22369139-yes-please'),\n",
       " Book(title='The Twilight of Sovereignty', author='Wriston, Walter B.', link='https://www.goodreads.com/book/show/1934439.The_Twilight_of_Sovereignty'),\n",
       " Book(title='The Sovereign Individual: Mastering the Transition to the Information Age', author='Davidson, James Dale', link='https://www.goodreads.com/book/show/82256.The_Sovereign_Individual'),\n",
       " Book(title='The Success Equation', author='Mauboussin, Michael J.', link='https://www.goodreads.com/book/show/13586925-the-success-equation'),\n",
       " Book(title='Becoming Steve Jobs: The Evolution of a Reckless Upstart into a Visionary Leader', author='Schlender, Brent *', link='https://www.goodreads.com/book/show/25809998-becoming-steve-jobs'),\n",
       " Book(title='Was This Man a Genius?: Talks With Andy Kaufman', author='Hecht, Julie', link='https://www.goodreads.com/book/show/188175.Was_This_Man_a_Genius_'),\n",
       " Book(title='The Only Rule Is It Has to Work: Our Wild Experiment Building a New Kind of Baseball Team', author='Lindbergh, Ben *', link='https://www.goodreads.com/book/show/26792284-the-only-rule-is-it-has-to-work'),\n",
       " Book(title='The Bauhaus Group: Six Masters of Modernism', author='Weber, Nicholas', link='https://www.goodreads.com/book/show/9772917-the-bauhaus-group'),\n",
       " Book(title='A Farewell to Arms', author='Hemingway, Ernest', link='https://www.goodreads.com/book/show/10799.A_Farewell_to_Arms'),\n",
       " Book(title='The Architecture of Happiness', author='de Botton, Alain *', link='https://www.goodreads.com/book/show/23418.The_Architecture_of_Happiness'),\n",
       " Book(title='J. C. Nichols and the Shaping of Kansas City: Innovation in Planned Residential Communities', author='Worley, William S.', link='https://www.goodreads.com/book/show/2310886.J_C_Nichols_and_the_Shaping_of_Kansas_City'),\n",
       " Book(title='Thoughts on Design', author='Rand, Paul', link='https://www.goodreads.com/book/show/22909916-thoughts-on-design'),\n",
       " Book(title='Let My People Go Surfing: The Education of a Reluctant Businessman', author='Chouinard, Yvon', link='https://www.goodreads.com/book/show/22155.Let_My_People_Go_Surfing'),\n",
       " Book(title='1776', author='McCullough, David', link='https://www.goodreads.com/book/show/1067.1776'),\n",
       " Book(title='Beat the Market: A Scientific Stock Market System', author='Thorp, Edward O.', link='https://www.goodreads.com/book/show/967013.Beat_the_Market'),\n",
       " Book(title='Business Adventures', author='Brooks, John', link='https://www.goodreads.com/book/show/4191136-business-adventures'),\n",
       " Book(title='Roughneck Nine-One: The Extraordinary Story of a Special Forces A-Team at War', author='Antenori, Frank', link='https://www.goodreads.com/book/show/147100.Roughneck_Nine_One'),\n",
       " Book(title='Operating Manual for Spaceship Earth', author='Fuller, R. Buckminster', link='https://www.goodreads.com/book/show/316362.Operating_Manual_for_Spaceship_Earth'),\n",
       " Book(title='Deep Value: Why Activist Investors and Other Contrarians Battle for Control of Losing Corporations', author='Carlisle, Tobias E.', link='https://www.goodreads.com/book/show/23152694-deep-value'),\n",
       " Book(title='Sex, Drugs, and Cocoa Puffs: A Low Culture Manifesto', author='Klosterman, Chuck', link='https://www.goodreads.com/book/show/599.Sex_Drugs_and_Cocoa_Puffs'),\n",
       " Book(title='The Napoleon of Crime: The Life and Times of Adam Worth, Master Thief', author='Macintyre, Ben', link='https://www.goodreads.com/book/show/442780.The_Napoleon_of_Crime'),\n",
       " Book(title='Spec Ops: Case Studies in Special Operations Warfare: Theory and Practice', author='McRaven, William H.', link='https://www.goodreads.com/book/show/797049.Spec_Ops'),\n",
       " Book(title='The Bed of Procrustes: Philosophical and Practical Aphorisms', author='Taleb, Nassim Nicholas *', link='https://www.goodreads.com/book/show/9976177-the-bed-of-procrustes'),\n",
       " Book(title='Antifragile: Things That Gain From Disorder', author='Taleb, Nassim Nicholas *', link='https://www.goodreads.com/book/show/17340611-antifragile'),\n",
       " Book(title='Dune (Dune Chronicles, #1)', author='Herbert, Frank', link='https://www.goodreads.com/book/show/234225.Dune'),\n",
       " Book(title='Super Crunchers: Why Thinking-By-Numbers Is the New Way to Be Smart', author='Ayres, Ian', link='https://www.goodreads.com/book/show/1081413.Super_Crunchers'),\n",
       " Book(title='The Strange Case of Dr. Jekyll and Mr. Hyde', author='Stevenson, Robert Louis', link='https://www.goodreads.com/book/show/51496.The_Strange_Case_of_Dr_Jekyll_and_Mr_Hyde'),\n",
       " Book(title='The Dhandho Investor: The Low-Risk Value Method to High Returns', author='Pabrai, Mohnish', link='https://www.goodreads.com/book/show/500514.The_Dhandho_Investor'),\n",
       " Book(title='Fooled by Randomness: The Hidden Role of Chance in Life and in the Markets', author='Taleb, Nassim Nicholas *', link='https://www.goodreads.com/book/show/8536015-fooled-by-randomness'),\n",
       " Book(title='Six Easy Pieces: Essentials of Physics By Its Most Brilliant Teacher', author='Feynman, Richard', link='https://www.goodreads.com/book/show/10968874-six-easy-pieces'),\n",
       " Book(title='The Shareholder Value Myth: How Putting Shareholders First Harms Investors, Corporations, and the Public', author='Stout, Lynn', link='https://www.goodreads.com/book/show/13132729-the-shareholder-value-myth'),\n",
       " Book(title='Shareholder Yield: A Better Approach to Dividend Investing', author='Faber, Mebane T. *', link='https://www.goodreads.com/book/show/18043030-shareholder-yield'),\n",
       " Book(title='Straight to Hell: True Tales of Deviance, Debauchery, and Billion-Dollar Deals', author='LeFevre, John', link='https://www.goodreads.com/book/show/21535674-straight-to-hell'),\n",
       " Book(title='A Load of Hooey', author='Odenkirk, Bob', link='https://www.goodreads.com/book/show/18342446-a-load-of-hooey'),\n",
       " Book(title='The Hard Thing About Hard Things: Building a Business When There Are No Easy Answers', author='Horowitz, Ben *', link='https://www.goodreads.com/book/show/18176747-the-hard-thing-about-hard-things'),\n",
       " Book(title='Modern Romance', author='Ansari, Aziz', link='https://www.goodreads.com/book/show/23453112-modern-romance'),\n",
       " Book(title='The Warrior Ethos', author='Pressfield, Steven *', link='https://www.goodreads.com/book/show/11468255-the-warrior-ethos'),\n",
       " Book(title='Humblebrag: The Art of False Modesty', author='Wittels, Harris', link='https://www.goodreads.com/book/show/13529090-humblebrag'),\n",
       " Book(title='You Too Can Have a Body Like Mine', author='Kleeman, Alexandra *', link='https://www.goodreads.com/book/show/23461003-you-too-can-have-a-body-like-mine'),\n",
       " Book(title='The Martian', author='Weir, Andy *', link='https://www.goodreads.com/book/show/18007564-the-martian'),\n",
       " Book(title='How to Make People Like You in 90 Seconds or Less', author='Boothman, Nicholas', link='https://www.goodreads.com/book/show/181727.How_to_Make_People_Like_You_in_90_Seconds_or_Less'),\n",
       " Book(title='Warlock (Legends West, #1)', author='Hall, Oakley', link='https://www.goodreads.com/book/show/183199.Warlock'),\n",
       " Book(title='When to Rob a Bank', author='Levitt, Steven D.', link='https://www.goodreads.com/book/show/23019295-when-to-rob-a-bank'),\n",
       " Book(title=\"Aerotropolis: The Way We'll Live Next\", author='Kasarda, John D.', link='https://www.goodreads.com/book/show/8966446-aerotropolis'),\n",
       " Book(title='Bleeding Edge', author='Pynchon, Thomas', link='https://www.goodreads.com/book/show/17208457-bleeding-edge'),\n",
       " Book(title='Influence: The Psychology of Persuasion', author='Cialdini, Robert B. *', link='https://www.goodreads.com/book/show/28815.Influence'),\n",
       " Book(title='The Quants: How a New Breed of Math Whizzes Conquered Wall Street and Nearly Destroyed It', author='Patterson, Scott *', link='https://www.goodreads.com/book/show/7495395-the-quants'),\n",
       " Book(title='The Gold Standard: Rules to Rule By', author='Gold, Ari', link='https://www.goodreads.com/book/show/25066569-the-gold-standard'),\n",
       " Book(title='Across The Fence: The Secret War In Vietnam', author='Meyer, John Stryker', link='https://www.goodreads.com/book/show/11515854-across-the-fence'),\n",
       " Book(title='Tubes: A Journey to the Center of the Internet', author='Blum, Andrew *', link='https://www.goodreads.com/book/show/18881524-tubes'),\n",
       " Book(title='The Bonfire of the Vanities', author='Wolfe, Tom', link='https://www.goodreads.com/book/show/8146622-the-bonfire-of-the-vanities'),\n",
       " Book(title='Think Like a Freak', author='Levitt, Steven D.', link='https://www.goodreads.com/book/show/17734962-think-like-a-freak'),\n",
       " Book(title=\"Outlaws Inc.: Under the Radar and on the Black Market with the World's Most Dangerous Smugglers\", author='Potter, Matt', link='https://www.goodreads.com/book/show/10330304-outlaws-inc'),\n",
       " Book(title=\"The Soul of Baseball: A Road Trip Through Buck O'Neil's America\", author='Posnanski, Joe *', link='https://www.goodreads.com/book/show/315783.The_Soul_of_Baseball'),\n",
       " Book(title='The (Mis)Behavior of Markets', author='Mandelbrot, Benoît B.', link='https://www.goodreads.com/book/show/665134.The_Mis_Behavior_of_Markets'),\n",
       " Book(title='The Black Swan: The Impact of the Highly Improbable', author='Taleb, Nassim Nicholas *', link='https://www.goodreads.com/book/show/8496935-the-black-swan'),\n",
       " Book(title='The Adventures of Huckleberry Finn (Adventures of Tom and Huck, #2)', author='Twain, Mark', link='https://www.goodreads.com/book/show/2956.The_Adventures_of_Huckleberry_Finn'),\n",
       " Book(title='V for Vendetta', author='Moore, Alan *', link='https://www.goodreads.com/book/show/5805.V_for_Vendetta'),\n",
       " Book(title='Watchmen', author='Moore, Alan *', link='https://www.goodreads.com/book/show/472331.Watchmen'),\n",
       " Book(title=\"The Hitchhiker's Guide to the Galaxy (Hitchhiker's Guide to the Galaxy, #1)\", author='Adams, Douglas', link='https://www.goodreads.com/book/show/11.The_Hitchhiker_s_Guide_to_the_Galaxy'),\n",
       " Book(title='Rogue Warrior (Rogue Warrior, #1)', author='Marcinko, Richard', link='https://www.goodreads.com/book/show/302424.Rogue_Warrior'),\n",
       " Book(title=\"Delta Force: The Army's Elite Counterterrorist Unit\", author='Beckwith, Charlie A.', link='https://www.goodreads.com/book/show/617661.Delta_Force'),\n",
       " Book(title=\"Inside Delta Force: The Story of America's Elite Counterterrorist Unit\", author='Haney, Eric L.', link='https://www.goodreads.com/book/show/115587.Inside_Delta_Force'),\n",
       " Book(title='Zero to One: Notes on Startups, or How to Build the Future', author='Thiel, Peter', link='https://www.goodreads.com/book/show/18050143-zero-to-one'),\n",
       " Book(title='The Big Short: Inside the Doomsday Machine', author='Lewis, Michael', link='https://www.goodreads.com/book/show/8032112-the-big-short'),\n",
       " Book(title='What the Dog Saw and Other Adventures', author='Gladwell, Malcolm', link='https://www.goodreads.com/book/show/6516450-what-the-dog-saw-and-other-adventures'),\n",
       " Book(title='SuperFreakonomics: Global Cooling, Patriotic Prostitutes And Why Suicide Bombers Should Buy Life Insurance', author='Levitt, Steven D.', link='https://www.goodreads.com/book/show/6402364-superfreakonomics'),\n",
       " Book(title='Blink: The Power of Thinking Without Thinking', author='Gladwell, Malcolm', link='https://www.goodreads.com/book/show/40102.Blink'),\n",
       " Book(title='Freakonomics: A Rogue Economist Explores the Hidden Side of Everything', author='Levitt, Steven D.', link='https://www.goodreads.com/book/show/1202.Freakonomics'),\n",
       " Book(title='Crazy Horse and Custer', author='Ambrose, Stephen E.', link='https://www.goodreads.com/book/show/49253.Crazy_Horse_and_Custer'),\n",
       " Book(title='Empire of the Summer Moon: Quanah Parker and the Rise and Fall of the Comanches, the Most Powerful Indian Tribe in American History', author='Gwynne, S.C.', link='https://www.goodreads.com/book/show/7648269-empire-of-the-summer-moon'),\n",
       " Book(title='Less Than Zero', author='Ellis, Bret Easton', link='https://www.goodreads.com/book/show/8470954-less-than-zero'),\n",
       " Book(title='Fight Club', author='Palahniuk, Chuck *', link='https://www.goodreads.com/book/show/4906716-fight-club'),\n",
       " Book(title='The 21 Irrefutable Laws of Leadership: Follow Them and People Will Follow You', author='Maxwell, John C.', link='https://www.goodreads.com/book/show/18993434-the-21-irrefutable-laws-of-leadership'),\n",
       " Book(title='I Wear the Black Hat: Grappling with Villains', author='Klosterman, Chuck', link='https://www.goodreads.com/book/show/18849737-i-wear-the-black-hat'),\n",
       " Book(title=\"Quantitative Value: A Practitioner's Guide to Automating Intelligent Investment and Eliminating Behavioral Errors\", author='Gray, Wesley R.', link='https://www.goodreads.com/book/show/16190788-quantitative-value'),\n",
       " Book(title='Inherent Vice', author='Pynchon, Thomas', link='https://www.goodreads.com/book/show/18882309-inherent-vice'),\n",
       " Book(title='Drive', author='Sallis, James', link='https://www.goodreads.com/book/show/9407818-drive')]"
      ]
     },
     "execution_count": 71,
     "metadata": {},
     "output_type": "execute_result"
    }
   ],
   "source": [
    "books"
   ]
  },
  {
   "cell_type": "code",
   "execution_count": null,
   "metadata": {},
   "outputs": [],
   "source": []
  }
 ],
 "metadata": {
  "kernelspec": {
   "display_name": "Python 3",
   "language": "python",
   "name": "python3"
  },
  "language_info": {
   "codemirror_mode": {
    "name": "ipython",
    "version": 3
   },
   "file_extension": ".py",
   "mimetype": "text/x-python",
   "name": "python",
   "nbconvert_exporter": "python",
   "pygments_lexer": "ipython3",
   "version": "3.8.1"
  }
 },
 "nbformat": 4,
 "nbformat_minor": 4
}
