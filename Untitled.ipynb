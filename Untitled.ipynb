{
 "cells": [
  {
   "cell_type": "code",
   "execution_count": 1,
   "metadata": {},
   "outputs": [],
   "source": [
    "from dataclasses import dataclass, astuple\n",
    "import re\n",
    "import sqlite3\n",
    "from pickling_cookies import pickle_thing, unpickle_thing"
   ]
  },
  {
   "cell_type": "code",
   "execution_count": 2,
   "metadata": {},
   "outputs": [],
   "source": [
    "from selenium import webdriver\n",
    "from selenium.webdriver.common.keys import Keys"
   ]
  },
  {
   "cell_type": "code",
   "execution_count": 4,
   "metadata": {},
   "outputs": [],
   "source": [
    "@dataclass\n",
    "class Shelf:\n",
    "    name: str\n",
    "    num_books : int\n",
    "    link: str\n",
    "\n",
    "@dataclass\n",
    "class Book:\n",
    "    title: str\n",
    "    author: str\n",
    "    link: str\n",
    "    isbn13: str\n",
    "    shelf_url : str\n",
    "\n",
    "\n",
    "def construct_shelves(url):\n",
    "    driver = webdriver.Firefox()\n",
    "    driver.get(url)\n",
    "    shelfContainer = driver.find_elements_by_class_name(\"userShowPageShelfListItem\")\n",
    "    shelves = [grab_shelf(ii) for ii in shelfContainer]\n",
    "    driver.close()\n",
    "    return shelves\n",
    "\n",
    "def grab_shelf(shelf):\n",
    "    name = re.split(r'\\([0-9]+\\)',shelf.text)[0].replace(\"(\",\"\").replace(\")\",\"\").strip()\n",
    "    num_books = int(re.findall(r'\\([0-9]+\\)',shelf.text)[0].replace(\"(\",\"\").replace(\")\",\"\"))\n",
    "    link = shelf.get_attribute(\"href\")\n",
    "    return Shelf(name,num_books,link)\n",
    "\n"
   ]
  },
  {
   "cell_type": "code",
   "execution_count": 5,
   "metadata": {},
   "outputs": [],
   "source": [
    "url =\"https://www.goodreads.com/user/show/43182754-crawford-collins\""
   ]
  },
  {
   "cell_type": "code",
   "execution_count": 6,
   "metadata": {},
   "outputs": [],
   "source": [
    "c = construct_shelves(url)"
   ]
  },
  {
   "cell_type": "code",
   "execution_count": 7,
   "metadata": {},
   "outputs": [],
   "source": [
    "# cookies = driver.get_cookies()\n",
    "# import pickle\n",
    "# filename = \"cookies\"\n",
    "# with open(filename,'wb') as outfile:\n",
    "#     pickle.dump(cookies, outfile)\n",
    "#     outfile.close()"
   ]
  },
  {
   "cell_type": "code",
   "execution_count": 25,
   "metadata": {},
   "outputs": [],
   "source": [
    "# conn = sqlite3.connect('books.db')\n",
    "# curs = conn.cursor()\n",
    "# curs.execute(f\"\"\"CREATE TABLE books\n",
    "#              (title text, author text, link text, isbn13 text, shelf_url text)\"\"\")\n",
    "# conn.commit()\n",
    "# conn.close()"
   ]
  },
  {
   "cell_type": "code",
   "execution_count": 10,
   "metadata": {},
   "outputs": [],
   "source": [
    "# dir(driver)"
   ]
  },
  {
   "cell_type": "code",
   "execution_count": 11,
   "metadata": {},
   "outputs": [],
   "source": [
    "def scrape_page(url):\n",
    "    driver = webdriver.Firefox()\n",
    "    driver.get(c[0].link)\n",
    "    cookies = unpickle_thing(\"cookies\")\n",
    "    for ii in cookies:\n",
    "        driver.add_cookie(ii)\n",
    "    driver.get(c[0].link)\n",
    "    driver.find_elements_by_id(\"shelfSettingsLink\")[0].click()\n",
    "    driver.find_elements_by_name(\"shelf[display_fields][isbn13]\")[0].click()\n",
    "    while True:\n",
    "        # Scroll down to bottom\n",
    "        driver.execute_script(\"window.scrollTo(0, document.body.scrollHeight);\")\n",
    "\n",
    "        # Wait to load page\n",
    "        # Calculate new scroll height and compare with last scroll height\n",
    "        dd =driver.find_elements_by_id(\"infiniteStatus\")\n",
    "\n",
    "        frac,total = [int(jj) for jj in dd[0].text.replace(\" loaded\",\"\").split(\" of \")]\n",
    "        if frac == total:\n",
    "            break\n",
    "            \n",
    "    titles = driver.find_elements_by_class_name(\"field.title\")\n",
    "    author = driver.find_elements_by_class_name(\"author\")\n",
    "    isbn13 = driver.find_elements_by_class_name(\"isbn13\")\n",
    "\n",
    "    conn = sqlite3.connect('books.db')\n",
    "    curs = conn.cursor()\n",
    "\n",
    "    if len(titles) == len(author) == len(isbn13):\n",
    "        for i in range(1,len(titles)):\n",
    "            bb = Book(\n",
    "                titles[i].text,\n",
    "                author[i].text,\n",
    "                titles[i].find_elements_by_class_name(\"value\")[0].find_element_by_tag_name(\"a\").get_attribute(\"href\"),\n",
    "                isbn13[i].text,\n",
    "                shelf_url = url)\n",
    "            curs.execute(f\"INSERT into books values {astuple(bb)}\")\n",
    "    conn.commit()\n",
    "    curs.close()\n",
    "        \n",
    "    driver.close()       "
   ]
  },
  {
   "cell_type": "code",
   "execution_count": 12,
   "metadata": {},
   "outputs": [],
   "source": [
    "scrape_page(c[0].link)"
   ]
  },
  {
   "cell_type": "code",
   "execution_count": 14,
   "metadata": {},
   "outputs": [],
   "source": [
    "def sqlite_helper(query_str,db_name):\n",
    "    conn = sqlite3.connect(db_name)\n",
    "    curs = conn.cursor()\n",
    "    curs.execute(query_str)\n",
    "    output =  curs.fetchall()\n",
    "    conn.commit()\n",
    "    conn.close()\n",
    "    return output"
   ]
  },
  {
   "cell_type": "code",
   "execution_count": 23,
   "metadata": {},
   "outputs": [],
   "source": [
    "query_str = \"SELECT Count(*) from books\"\n",
    "db_name = 'books.db'\n",
    "output = sqlite_helper(query_str,db_name)"
   ]
  },
  {
   "cell_type": "code",
   "execution_count": 24,
   "metadata": {},
   "outputs": [
    {
     "data": {
      "text/plain": [
       "[(207,)]"
      ]
     },
     "execution_count": 24,
     "metadata": {},
     "output_type": "execute_result"
    }
   ],
   "source": [
    "output"
   ]
  },
  {
   "cell_type": "code",
   "execution_count": null,
   "metadata": {},
   "outputs": [],
   "source": []
  }
 ],
 "metadata": {
  "kernelspec": {
   "display_name": "Python 3",
   "language": "python",
   "name": "python3"
  },
  "language_info": {
   "codemirror_mode": {
    "name": "ipython",
    "version": 3
   },
   "file_extension": ".py",
   "mimetype": "text/x-python",
   "name": "python",
   "nbconvert_exporter": "python",
   "pygments_lexer": "ipython3",
   "version": "3.8.1"
  }
 },
 "nbformat": 4,
 "nbformat_minor": 4
}
